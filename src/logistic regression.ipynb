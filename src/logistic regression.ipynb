{
 "cells": [
  {
   "cell_type": "code",
   "execution_count": 50,
   "id": "4194b346",
   "metadata": {},
   "outputs": [],
   "source": [
    "%matplotlib inline\n",
    "import numpy as np\n",
    "import pandas as pd\n",
    "import matplotlib.pyplot as plt\n",
    "import seaborn as sns\n",
    "from sklearn import datasets\n",
    "from sklearn import linear_model"
   ]
  },
  {
   "cell_type": "code",
   "execution_count": 51,
   "id": "061414fd",
   "metadata": {},
   "outputs": [],
   "source": [
    "data = pd.read_csv(\"all_combined.csv\")\n",
    "# .set_index([\"teamName\", \"year\"]).sort_index()"
   ]
  },
  {
   "cell_type": "code",
   "execution_count": 52,
   "id": "863e550e",
   "metadata": {},
   "outputs": [
    {
     "name": "stdout",
     "output_type": "stream",
     "text": [
      "training\n",
      "                    teamName  year  prev_3s_recruits  prev_4s_recruits  \\\n",
      "0           Eastern Illinois  2017                 1                 0   \n",
      "1               Savannah St.  2015                 0                 0   \n",
      "2              San Francisco  2021                 0                 0   \n",
      "3               UC Riverside  2017                 0                 0   \n",
      "4              Massachusetts  2021                 2                 1   \n",
      "...                      ...   ...               ...               ...   \n",
      "2509               Wisconsin  2015                 3                 1   \n",
      "2510  North Carolina Central  2019                 0                 0   \n",
      "2511                 Arizona  2021                 1                 1   \n",
      "2512                Oklahoma  2017                 2                 1   \n",
      "2513              Seton Hall  2018                 1                 1   \n",
      "\n",
      "      prev_5s_recruits  curr_3s_recruits  curr_4s_recruits  curr_5s_recruits  \\\n",
      "0                    0                 0                 0                 0   \n",
      "1                    0                 0                 0                 0   \n",
      "2                    0                 0                 0                 0   \n",
      "3                    0                 0                 0                 0   \n",
      "4                    0                 4                 0                 0   \n",
      "...                ...               ...               ...               ...   \n",
      "2509                 0                 1                 0                 0   \n",
      "2510                 0                 0                 0                 0   \n",
      "2511                 2                 1                 5                 0   \n",
      "2512                 0                 2                 2                 0   \n",
      "2513                 0                 3                 1                 0   \n",
      "\n",
      "      seed_points  NIT  ...  F4  F2  CHMP  returningMins%       sos  adjTempo  \\\n",
      "0       -0.414575    1  ...   0   0     0        0.693000  0.114095  0.093700   \n",
      "1       -0.414575    1  ...   0   0     0        0.446800  0.161636 -0.808776   \n",
      "2       -0.414575    1  ...   0   0     0        0.492997  0.208348  0.399284   \n",
      "3       -0.414575    1  ...   0   0     0        0.584600  0.124106  0.151034   \n",
      "4       -0.414575    1  ...   0   0     0        0.453091  0.224727  0.389595   \n",
      "...           ...  ...  ...  ..  ..   ...             ...       ...       ...   \n",
      "2509     3.486966    0  ...   1   0     0        0.812600  0.350727 -1.128514   \n",
      "2510    -0.154472    0  ...   0   0     0        0.615400  0.063050 -0.355955   \n",
      "2511     2.186452    0  ...   0   0     0        0.198198  0.263563  0.567013   \n",
      "2512     3.486966    0  ...   1   0     0        0.407800  0.390005  1.042167   \n",
      "2513     1.666247    0  ...   0   0     0        0.797000  0.335339  0.426065   \n",
      "\n",
      "      win ratio  overall efficiency     stars  label  \n",
      "0      0.392857           -0.774318 -0.845031      0  \n",
      "1      0.366667           -0.798537 -0.845031      0  \n",
      "2      0.636364            0.934293  0.114315      0  \n",
      "3      0.387097           -0.409645  0.018381      0  \n",
      "4      0.451613           -0.052055  1.073662      0  \n",
      "...         ...                 ...       ...    ...  \n",
      "2509   0.789474            2.238375 -0.845031      1  \n",
      "2510   0.500000           -1.282257  2.896419      1  \n",
      "2511   0.656250            1.645537  1.073662      1  \n",
      "2512   0.783784            2.027007  0.434097      1  \n",
      "2513   0.636364            1.121688  1.073662      1  \n",
      "\n",
      "[2514 rows x 24 columns]\n",
      "testing\n",
      "        teamName  year  prev_3s_recruits  prev_4s_recruits  prev_5s_recruits  \\\n",
      "0      Air Force  2013                 0                 0                 0   \n",
      "1      Air Force  2019                 0                 0                 0   \n",
      "2        Alabama  2014                 0                 0                 1   \n",
      "3        Alabama  2015                 1                 2                 0   \n",
      "4        Alabama  2016                 1                 3                 0   \n",
      "..           ...   ...               ...               ...               ...   \n",
      "623  Wichita St.  2019                 1                 0                 0   \n",
      "624    Wisconsin  2018                 2                 0                 0   \n",
      "625      Wofford  2015                 0                 0                 0   \n",
      "626   Wright St.  2019                 0                 0                 0   \n",
      "627       Xavier  2013                 0                 3                 0   \n",
      "\n",
      "     curr_3s_recruits  curr_4s_recruits  curr_5s_recruits  seed_points  NIT  \\\n",
      "0                   0                 0                 0    -0.414575    1   \n",
      "1                   0                 0                 0    -0.414575    1   \n",
      "2                   1                 2                 0    -0.414575    1   \n",
      "3                   1                 3                 0    -0.414575    1   \n",
      "4                   3                 0                 0    -0.414575    1   \n",
      "..                ...               ...               ...          ...  ...   \n",
      "623                 7                 0                 0     2.966760    0   \n",
      "624                 1                 2                 0     1.926350    0   \n",
      "625                 1                 0                 0     0.105631    0   \n",
      "626                 0                 0                 0     0.365733    0   \n",
      "627                 1                 2                 0     1.406144    0   \n",
      "\n",
      "     ...  F4  F2  CHMP  returningMins%       sos  adjTempo  win ratio  \\\n",
      "0    ...   0   0     0          0.8352  0.215310 -1.655481   0.407407   \n",
      "1    ...   0   0     0          0.5086  0.171889 -0.205029   0.344828   \n",
      "2    ...   0   0     0          0.6234  0.249574 -1.842981   0.628571   \n",
      "3    ...   0   0     0          0.6232  0.302217 -1.195969   0.387097   \n",
      "4    ...   0   0     0          0.5728  0.307525 -1.498356   0.545455   \n",
      "..   ...  ..  ..   ...             ...       ...       ...        ...   \n",
      "623  ...   0   0     0          0.1122  0.239435  0.807080   0.757576   \n",
      "624  ...   0   0     0          0.3942  0.344354 -0.992894   0.729730   \n",
      "625  ...   0   0     0          0.9128  0.145674 -1.699131   0.566667   \n",
      "626  ...   0   0     0          0.6420  0.130607  0.567636   0.696970   \n",
      "627  ...   0   0     0          0.2992  0.278787  0.002819   0.638889   \n",
      "\n",
      "     overall efficiency     stars  label  \n",
      "0             -0.180079 -0.845031      0  \n",
      "1             -0.434948 -0.845031      0  \n",
      "2              1.080197  0.530032      0  \n",
      "3              0.857844 -0.845031      0  \n",
      "4              1.007870  1.809160      0  \n",
      "..                  ...       ...    ...  \n",
      "623            1.524521 -0.205467      1  \n",
      "624            1.886942 -0.205467      1  \n",
      "625           -0.216692 -0.205467      1  \n",
      "626            0.181147 -0.845031      1  \n",
      "627            1.007023 -0.205467      1  \n",
      "\n",
      "[628 rows x 24 columns]\n",
      "(2514, 12)\n",
      "(628, 12)\n"
     ]
    }
   ],
   "source": [
    "data_0 = data[data['label'] == 0]\n",
    "data_1 = data[data['label'] == 1]\n",
    "\n",
    "# print(data_0)\n",
    "# print(data_1)\n",
    "\n",
    "training_data_0 = data_0.sample(frac=0.8)\n",
    "testing_data_0 = data_0.drop(training_data_0.index)\n",
    "\n",
    "training_data_1 = data_1.sample(frac=0.8)\n",
    "testing_data_1 = data_1.drop(training_data_1.index)\n",
    "\n",
    "# print(\"data class 0\")\n",
    "# print(training_data_0)\n",
    "# print(testing_data_0)\n",
    "\n",
    "# print(\"data class 1\")\n",
    "# print(training_data_1)\n",
    "# print(testing_data_1)\n",
    "\n",
    "X = training_data_0.append(training_data_1, ignore_index=True)\n",
    "# X_train = X.loc[:, X.columns != 'label']\n",
    "X_train = X.loc[:, ~X.columns.isin(['teamName', 'year', 'label', 'seed_points', 'NIT', 'R64', 'R32', 'S16', 'E8', 'F4', 'F2', 'CHMP'])]\n",
    "X_label = X['label']\n",
    "\n",
    "print(\"training\")\n",
    "print(X)\n",
    "\n",
    "Y = testing_data_0.append(testing_data_1, ignore_index=True)\n",
    "Y_test = Y.loc[:, Y.columns != 'label']\n",
    "Y_test = Y.loc[:, ~Y.columns.isin(['teamName', 'year', 'label', 'seed_points', 'NIT', 'R64', 'R32', 'S16', 'E8', 'F4', 'F2', 'CHMP'])]\n",
    "Y_label = Y['label']\n",
    "\n",
    "print(\"testing\")\n",
    "print(Y)\n",
    "\n",
    "print(X_train.shape)\n",
    "print(Y_test.shape)"
   ]
  },
  {
   "cell_type": "code",
   "execution_count": 53,
   "id": "e72574a3",
   "metadata": {},
   "outputs": [
    {
     "name": "stdout",
     "output_type": "stream",
     "text": [
      "0       Eastern Illinois\n",
      "1           Savannah St.\n",
      "2          San Francisco\n",
      "3           UC Riverside\n",
      "4          Massachusetts\n",
      "              ...       \n",
      "2020     Sam Houston St.\n",
      "2021         Utah Valley\n",
      "2022    Prairie View A&M\n",
      "2023               Rider\n",
      "2024         Stony Brook\n",
      "Name: teamName, Length: 2025, dtype: object\n"
     ]
    }
   ],
   "source": [
    "print(X[X['label'] == 0].loc[:, 'teamName'])"
   ]
  },
  {
   "cell_type": "code",
   "execution_count": 54,
   "id": "c469a02a",
   "metadata": {},
   "outputs": [
    {
     "data": {
      "image/png": "[encoded data removed]",
      "text/plain": [
       "<Figure size 720x432 with 1 Axes>"
      ]
     },
     "metadata": {
      "needs_background": "light"
     },
     "output_type": "display_data"
    }
   ],
   "source": [
    "plt.figure(figsize=(10, 6))\n",
    "plt.scatter(X[X['label'] == 0].loc[:, 'teamName'], X[X['label'] == 0].loc[:, 'year'], color='b', label='0')\n",
    "plt.scatter(X[X['label'] == 1].loc[:, 'teamName'], X[X['label'] == 1].loc[:, 'year'], color='r', label='1')\n",
    "plt.legend();"
   ]
  },
  {
   "cell_type": "code",
   "execution_count": 55,
   "id": "61a3e53b",
   "metadata": {},
   "outputs": [],
   "source": [
    "class LogisticRegression:\n",
    "    \n",
    "    # set parameters - learning rate, number ot iterations, bias, \n",
    "    # and verbose which says whether to print anything or not like, loss etc.\n",
    "    def __init__(self, learning_rate=0.01, num_iterations=50000, fit_intercept=True, verbose=False):\n",
    "        self.learning_rate = learning_rate\n",
    "        self.num_iterations = num_iterations\n",
    "        self.fit_intercept = fit_intercept\n",
    "        self.verbose = verbose\n",
    "    \n",
    "    # function to define the Incercept value.\n",
    "    def __bias(self, X):\n",
    "        # set bias as 1\n",
    "        bias = np.ones((X.shape[0], 1))\n",
    "        # concat bias to data\n",
    "        return np.concatenate((bias, X), axis=1)\n",
    "    \n",
    "    def __sigmoid_function(self, x):\n",
    "        # sigmoid function to predicts yp\n",
    "        return 1 / (1 + np.exp(-x))\n",
    "    \n",
    "    def __loss(self, yp, y):\n",
    "        # minimize loss\n",
    "        return (-y * np.log(yp) - (1 - y) * np.log(1 - yp)).mean()\n",
    "    \n",
    "    # training function\n",
    "    def fit(self, X, y):\n",
    "        \n",
    "        # use bias if specified\n",
    "        if self.fit_intercept:\n",
    "            X = self.__bias(X)\n",
    "        \n",
    "        # initialize weights as 0 initially\n",
    "        self.W = np.zeros(X.shape[1])\n",
    "        \n",
    "        # run for number of iterations provided\n",
    "        for i in range(self.num_iterations):\n",
    "            \n",
    "            z = np.dot(X, self.W)\n",
    "            \n",
    "            # prediction probabilities\n",
    "            yp = self.__sigmoid_function(z)\n",
    "            \n",
    "            # calculate gradient\n",
    "            gradient = np.dot(X.T, (yp - y)) / y.size\n",
    "            \n",
    "            # update W\n",
    "            self.W -= self.learning_rate * gradient\n",
    "            \n",
    "            # new W * Xi\n",
    "            z = np.dot(X, self.W)\n",
    "            yp = self.__sigmoid_function(z)\n",
    "            \n",
    "            # calculate loss\n",
    "            loss = self.__loss(yp, y)\n",
    "            \n",
    "            # to print loss with verbose\n",
    "            if(self.verbose ==True and i % 1000 == 0):\n",
    "                print(f'loss: {loss} \\t')\n",
    "    \n",
    "    # predict the probabilities using W\n",
    "    def predict_prob(self, X):\n",
    "        if self.fit_intercept:\n",
    "            X = self.__bias(X)\n",
    "        \n",
    "        return self.__sigmoid_function(np.dot(X, self.W))\n",
    "    \n",
    "    # predict class from probabilities; less than 0.5 = 0 or more than 0.5 = 1\n",
    "    def predict(self, X):\n",
    "        return self.predict_prob(X).round()"
   ]
  },
  {
   "cell_type": "code",
   "execution_count": 59,
   "id": "bc3f2007",
   "metadata": {},
   "outputs": [],
   "source": [
    "model = LogisticRegression(learning_rate=0.01, num_iterations=50000, verbose=True)"
   ]
  },
  {
   "cell_type": "code",
   "execution_count": 60,
   "id": "82138c9d",
   "metadata": {},
   "outputs": [
    {
     "name": "stdout",
     "output_type": "stream",
     "text": [
      "loss: 0.6907556937961412 \t\n",
      "loss: 0.3130628840178381 \t\n",
      "loss: 0.28164068048460406 \t\n",
      "loss: 0.26960728543538126 \t\n",
      "loss: 0.2632744718359632 \t\n",
      "loss: 0.25945152314629144 \t\n",
      "loss: 0.2569418634707733 \t\n",
      "loss: 0.25518878077390156 \t\n",
      "loss: 0.2538999697654668 \t\n",
      "loss: 0.25290943261291393 \t\n",
      "loss: 0.25211746572381977 \t\n",
      "loss: 0.25146157702841554 \t\n",
      "loss: 0.2509012566458342 \t\n",
      "loss: 0.25040951822523294 \t\n",
      "loss: 0.24996797517098387 \t\n",
      "loss: 0.24956386180827356 \t\n",
      "loss: 0.24918817197169202 \t\n",
      "loss: 0.24883446346029656 \t\n",
      "loss: 0.24849807190332965 \t\n",
      "loss: 0.24817558327705908 \t\n",
      "loss: 0.24786447373859372 \t\n",
      "loss: 0.24756285995708904 \t\n",
      "loss: 0.24726932375475982 \t\n",
      "loss: 0.24698278752462077 \t\n",
      "loss: 0.24670242483449348 \t\n",
      "loss: 0.24642759571651823 \t\n",
      "loss: 0.24615779946450678 \t\n",
      "loss: 0.24589263996807328 \t\n",
      "loss: 0.24563180010018285 \t\n",
      "loss: 0.24537502269166114 \t\n",
      "loss: 0.2451220963299613 \t\n",
      "loss: 0.244872844711992 \t\n",
      "loss: 0.2446271186289525 \t\n",
      "loss: 0.24438478990945584 \t\n",
      "loss: 0.24414574682579057 \t\n",
      "loss: 0.24390989059752077 \t\n",
      "loss: 0.2436771327209257 \t\n",
      "loss: 0.2434473929219335 \t\n",
      "loss: 0.24322059758117834 \t\n",
      "loss: 0.24299667851756412 \t\n",
      "loss: 0.24277557204479278 \t\n",
      "loss: 0.24255721823627258 \t\n",
      "loss: 0.24234156034951984 \t\n",
      "loss: 0.24212854437296086 \t\n",
      "loss: 0.2419181186669215 \t\n",
      "loss: 0.2417102336773067 \t\n",
      "loss: 0.24150484170554562 \t\n",
      "loss: 0.24130189672223396 \t\n",
      "loss: 0.24110135421483314 \t\n",
      "loss: 0.24090317106201473 \t\n",
      "CPU times: user 1min 44s, sys: 3min 56s, total: 5min 40s\n",
      "Wall time: 44 s\n"
     ]
    }
   ],
   "source": [
    "%%time\n",
    "model.fit(X_train, X_label)"
   ]
  },
  {
   "cell_type": "code",
   "execution_count": 61,
   "id": "5f412cda",
   "metadata": {},
   "outputs": [
    {
     "data": {
      "text/plain": [
       "0.8853503184713376"
      ]
     },
     "execution_count": 61,
     "metadata": {},
     "output_type": "execute_result"
    }
   ],
   "source": [
    "preds = model.predict(Y_test)\n",
    "(preds == Y_label).mean()"
   ]
  },
  {
   "cell_type": "code",
   "execution_count": 62,
   "id": "f97bd9be",
   "metadata": {},
   "outputs": [
    {
     "name": "stdout",
     "output_type": "stream",
     "text": [
      "[-2.66287618 -0.14371892 -0.06420122  0.28740568 -0.28429533 -0.0558308\n",
      " -0.26926975 -1.23572468 -0.67861972  0.07037805  1.9887149   2.81897647\n",
      " -0.09300024]\n",
      "(13,)\n"
     ]
    }
   ],
   "source": [
    "print(model.W)\n",
    "print(model.W.shape)"
   ]
  },
  {
   "cell_type": "code",
   "execution_count": 63,
   "id": "f2ebc77a",
   "metadata": {},
   "outputs": [
    {
     "data": {
      "text/plain": [
       "array([0, 0, 1, 0, 0, 0, 0, 0, 0, 0, 0, 0, 0, 0, 1, 0, 0, 0, 0, 0, 0, 0,\n",
       "       0, 0, 0, 0, 0, 1, 0, 0, 0, 0, 0, 0, 0, 0, 0, 0, 0, 0, 0, 0, 0, 0,\n",
       "       0, 0, 0, 0, 0, 0, 0, 0, 0, 0, 0, 0, 0, 0, 0, 0, 0, 0, 0, 0, 0, 0,\n",
       "       0, 0, 0, 0, 0, 0, 0, 0, 0, 0, 0, 0, 0, 0, 0, 0, 0, 0, 0, 0, 0, 1,\n",
       "       0, 0, 0, 0, 0, 0, 0, 0, 0, 0, 0, 0, 0, 0, 0, 0, 0, 1, 0, 0, 0, 0,\n",
       "       0, 0, 0, 0, 0, 0, 1, 0, 0, 0, 0, 0, 1, 0, 0, 0, 0, 0, 0, 0, 0, 0,\n",
       "       1, 0, 0, 0, 1, 0, 0, 0, 0, 0, 0, 0, 0, 0, 0, 0, 0, 0, 0, 0, 0, 0,\n",
       "       0, 0, 0, 0, 0, 0, 0, 0, 0, 0, 0, 0, 0, 0, 0, 0, 0, 0, 0, 0, 0, 0,\n",
       "       0, 1, 0, 0, 0, 0, 0, 0, 0, 0, 0, 0, 0, 0, 0, 0, 0, 0, 0, 0, 0, 0,\n",
       "       0, 0, 0, 0, 0, 0, 0, 0, 0, 0, 0, 0, 0, 1, 0, 1, 0, 0, 0, 0, 0, 0,\n",
       "       0, 0, 0, 0, 0, 0, 0, 0, 0, 0, 0, 0, 0, 0, 0, 0, 0, 1, 0, 0, 0, 0,\n",
       "       0, 0, 0, 0, 0, 0, 0, 0, 0, 0, 0, 0, 0, 0, 0, 0, 0, 0, 0, 0, 0, 0,\n",
       "       1, 0, 0, 0, 0, 0, 0, 0, 0, 0, 0, 0, 0, 0, 0, 0, 0, 0, 0, 0, 0, 0,\n",
       "       0, 0, 0, 0, 0, 0, 0, 0, 0, 0, 0, 0, 0, 0, 0, 0, 1, 0, 0, 0, 0, 1,\n",
       "       0, 0, 0, 0, 0, 1, 0, 0, 0, 0, 0, 0, 0, 0, 0, 0, 0, 0, 1, 0, 0, 0,\n",
       "       0, 0, 0, 0, 0, 0, 0, 0, 0, 0, 0, 0, 0, 0, 0, 0, 0, 0, 0, 0, 0, 0,\n",
       "       0, 0, 0, 0, 0, 0, 0, 1, 0, 0, 0, 0, 1, 0, 0, 0, 1, 0, 0, 0, 0, 0,\n",
       "       0, 0, 0, 0, 0, 0, 0, 0, 0, 0, 0, 0, 0, 0, 0, 0, 0, 0, 0, 0, 0, 0,\n",
       "       0, 0, 0, 0, 0, 0, 1, 0, 0, 0, 0, 0, 0, 0, 0, 0, 1, 1, 0, 0, 0, 0,\n",
       "       0, 0, 0, 0, 0, 0, 0, 0, 0, 0, 0, 0, 0, 0, 0, 0, 0, 0, 0, 0, 0, 0,\n",
       "       0, 0, 0, 0, 0, 0, 0, 0, 0, 0, 0, 0, 0, 0, 0, 0, 0, 0, 1, 0, 0, 0,\n",
       "       0, 0, 0, 0, 0, 0, 0, 0, 0, 0, 0, 0, 0, 0, 0, 0, 0, 0, 0, 0, 0, 0,\n",
       "       1, 0, 0, 0, 0, 0, 0, 0, 0, 0, 0, 0, 0, 0, 0, 0, 0, 0, 0, 0, 0, 0,\n",
       "       1, 0, 0, 1, 0, 0, 1, 1, 1, 1, 1, 0, 1, 0, 1, 1, 0, 1, 1, 1, 0, 1,\n",
       "       1, 0, 1, 1, 0, 0, 1, 1, 0, 1, 1, 0, 0, 1, 0, 1, 1, 1, 1, 1, 0, 1,\n",
       "       1, 1, 1, 1, 1, 0, 1, 1, 1, 1, 1, 0, 1, 1, 1, 0, 1, 1, 0, 1, 1, 1,\n",
       "       1, 1, 1, 0, 0, 1, 1, 0, 1, 0, 1, 1, 1, 1, 1, 1, 1, 1, 1, 0, 1, 1,\n",
       "       1, 1, 1, 1, 1, 0, 0, 1, 0, 0, 1, 1, 0, 0, 1, 1, 1, 1, 1, 1, 1, 0,\n",
       "       0, 0, 1, 1, 0, 0, 0, 1, 1, 0, 0, 1])"
      ]
     },
     "execution_count": 63,
     "metadata": {},
     "output_type": "execute_result"
    }
   ],
   "source": [
    "from sklearn.linear_model import LogisticRegression\n",
    "clf = LogisticRegression(max_iter = 3000).fit(X_train, X_label)\n",
    "clf.predict(Y_test)"
   ]
  },
  {
   "cell_type": "code",
   "execution_count": 64,
   "id": "e94d7274",
   "metadata": {},
   "outputs": [
    {
     "data": {
      "text/plain": [
       "0.8964968152866242"
      ]
     },
     "execution_count": 64,
     "metadata": {},
     "output_type": "execute_result"
    }
   ],
   "source": [
    "clf.score(Y_test, Y_label)"
   ]
  },
  {
   "cell_type": "code",
   "execution_count": null,
   "id": "30da0ed0",
   "metadata": {},
   "outputs": [],
   "source": []
  }
 ],
 "metadata": {
  "kernelspec": {
   "display_name": "Python 3",
   "language": "python",
   "name": "python3"
  },
  "language_info": {
   "codemirror_mode": {
    "name": "ipython",
    "version": 3
   },
   "file_extension": ".py",
   "mimetype": "text/x-python",
   "name": "python",
   "nbconvert_exporter": "python",
   "pygments_lexer": "ipython3",
   "version": "3.8.10"
  }
 },
 "nbformat": 4,
 "nbformat_minor": 5
}
