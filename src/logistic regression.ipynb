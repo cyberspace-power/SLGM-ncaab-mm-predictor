{
 "cells": [
  {
   "cell_type": "code",
   "execution_count": 18,
   "id": "4194b346",
   "metadata": {},
   "outputs": [],
   "source": [
    "%matplotlib inline\n",
    "import numpy as np\n",
    "import pandas as pd\n",
    "import matplotlib.pyplot as plt\n",
    "import seaborn as sns\n",
    "from sklearn import datasets\n",
    "from sklearn import linear_model\n",
    "from sklearn.metrics import confusion_matrix"
   ]
  },
  {
   "cell_type": "code",
   "execution_count": 77,
   "id": "061414fd",
   "metadata": {},
   "outputs": [],
   "source": [
    "data = pd.read_csv(\"./../Data/Final Data/all_combined.csv\")\n",
    "# .set_index([\"teamName\", \"year\"]).sort_index()"
   ]
  },
  {
   "cell_type": "code",
   "execution_count": 148,
   "id": "863e550e",
   "metadata": {},
   "outputs": [
    {
     "name": "stdout",
     "output_type": "stream",
     "text": [
      "(2514, 13)\n",
      "(628, 13)\n"
     ]
    }
   ],
   "source": [
    "data_0 = data[data['label'] == 0]\n",
    "data_1 = data[data['label'] == 1]\n",
    "\n",
    "# print(data_0)\n",
    "# print(data_1)\n",
    "\n",
    "training_data_0 = data_0.sample(frac=0.8)\n",
    "testing_data_0 = data_0.drop(training_data_0.index)\n",
    "\n",
    "training_data_1 = data_1.sample(frac=0.8)\n",
    "testing_data_1 = data_1.drop(training_data_1.index)\n",
    "\n",
    "# print(\"data class 0\")\n",
    "# print(training_data_0)\n",
    "# print(testing_data_0)\n",
    "\n",
    "# print(\"data class 1\")\n",
    "# print(training_data_1)\n",
    "# print(testing_data_1)\n",
    "\n",
    "X = training_data_0.append(training_data_1, ignore_index=True)\n",
    "# X_train = X.loc[:, X.columns != 'label']\n",
    "# X_train = X.loc[:, ~X.columns.isin(['teamName', 'year', 'label', 'seed_points', 'NIT', 'R64', 'R32', 'S16', 'E8', 'F4', 'F2', 'CHMP'])]\n",
    "X_train = X.loc[:, ~X.columns.isin(['teamName', 'year', 'label', 'seed_points', 'R64', 'R32', 'S16', 'E8', 'F4', 'F2', 'CHMP'])]\n",
    "X_label = X['label']\n",
    "\n",
    "# print(\"training\")\n",
    "# print(X)\n",
    "\n",
    "Y = testing_data_0.append(testing_data_1, ignore_index=True)\n",
    "# Y_test = Y.loc[:, Y.columns != 'label']\n",
    "# Y_test = Y.loc[:, ~Y.columns.isin(['teamName', 'year', 'label', 'seed_points', 'NIT', 'R64', 'R32', 'S16', 'E8', 'F4', 'F2', 'CHMP'])]\n",
    "Y_test = Y.loc[:, ~Y.columns.isin(['teamName', 'year', 'label', 'seed_points', 'R64', 'R32', 'S16', 'E8', 'F4', 'F2', 'CHMP'])]\n",
    "Y_label = Y['label']\n",
    "\n",
    "# print(\"testing\")\n",
    "# print(Y)\n",
    "\n",
    "print(X_train.shape)\n",
    "print(Y_test.shape)"
   ]
  },
  {
   "cell_type": "code",
   "execution_count": 149,
   "id": "e72574a3",
   "metadata": {},
   "outputs": [
    {
     "name": "stdout",
     "output_type": "stream",
     "text": [
      "0           Campbell\n",
      "1        Stony Brook\n",
      "2          Manhattan\n",
      "3             DePaul\n",
      "4             Towson\n",
      "            ...     \n",
      "2020             LSU\n",
      "2021    South Dakota\n",
      "2022          Wagner\n",
      "2023      Coppin St.\n",
      "2024        American\n",
      "Name: teamName, Length: 2025, dtype: object\n"
     ]
    }
   ],
   "source": [
    "print(X[X['label'] == 0].loc[:, 'teamName'])"
   ]
  },
  {
   "cell_type": "code",
   "execution_count": 22,
   "id": "c469a02a",
   "metadata": {},
   "outputs": [
    {
     "data": {
      "image/png": "[encoded data removed]",
      "text/plain": [
       "<Figure size 720x432 with 1 Axes>"
      ]
     },
     "metadata": {
      "needs_background": "light"
     },
     "output_type": "display_data"
    }
   ],
   "source": [
    "plt.figure(figsize=(10, 6))\n",
    "plt.scatter(X[X['label'] == 0].loc[:, 'teamName'], X[X['label'] == 0].loc[:, 'year'], color='b', label='0')\n",
    "plt.scatter(X[X['label'] == 1].loc[:, 'teamName'], X[X['label'] == 1].loc[:, 'year'], color='r', label='1')\n",
    "plt.legend();"
   ]
  },
  {
   "cell_type": "code",
   "execution_count": 150,
   "id": "61a3e53b",
   "metadata": {},
   "outputs": [],
   "source": [
    "class LogisticRegression:\n",
    "    \n",
    "    # set parameters - learning rate, number ot iterations, bias, \n",
    "    # and verbose which says whether to print anything or not like, loss etc.\n",
    "    def __init__(self, learning_rate=0.05, num_iterations=50000, fit_intercept=True, verbose=False):\n",
    "        self.learning_rate = learning_rate\n",
    "        self.num_iterations = num_iterations\n",
    "        self.fit_intercept = fit_intercept\n",
    "        self.verbose = verbose\n",
    "    \n",
    "    # function to define the Incercept value.\n",
    "    def __bias(self, X):\n",
    "        # set bias as 1\n",
    "        bias = np.ones((X.shape[0], 1))\n",
    "        # concat bias to data\n",
    "        return np.concatenate((bias, X), axis=1)\n",
    "    \n",
    "    def __sigmoid_function(self, x):\n",
    "        # sigmoid function to predicts yp\n",
    "        return 1 / (1 + np.exp(-x))\n",
    "    \n",
    "    def __loss(self, yp, y):\n",
    "        # minimize loss\n",
    "        return (-y * np.log(yp) - (1 - y) * np.log(1 - yp)).mean()\n",
    "    \n",
    "    # training function\n",
    "    def fit(self, X, y):\n",
    "        \n",
    "        # use bias if specified\n",
    "        if self.fit_intercept:\n",
    "            X = self.__bias(X)\n",
    "        \n",
    "        # initialize weights as 0 initially\n",
    "        # self.W = np.zeros(X.shape[1])\n",
    "        self.W = 2 * np.random.randn(X.shape[1])  # Randomly generate initial weight matrix with normal distribution (mu=0, sigma = 2)\n",
    "        \n",
    "        # run for number of iterations provided\n",
    "        for i in range(self.num_iterations):\n",
    "            \n",
    "            z = np.dot(X, self.W)\n",
    "            \n",
    "            # prediction probabilities\n",
    "            yp = self.__sigmoid_function(z)\n",
    "            \n",
    "            # calculate gradient\n",
    "            gradient = np.dot(X.T, (yp - y)) / y.size\n",
    "            \n",
    "            # update W\n",
    "            self.W -= self.learning_rate * gradient\n",
    "            \n",
    "            # new W * Xi\n",
    "            z = np.dot(X, self.W)\n",
    "            yp = self.__sigmoid_function(z)\n",
    "            \n",
    "            # calculate loss\n",
    "            if len(yp) == 0 or len(y) == 0:\n",
    "                print(\"Here\")\n",
    "            loss = self.__loss(yp, y)\n",
    "            \n",
    "            # to print loss with verbose\n",
    "            if(self.verbose ==True and i % 1000 == 0):\n",
    "                print(f'loss: {loss} \\t')\n",
    "    \n",
    "    # predict the probabilities using W\n",
    "    def predict_prob(self, X):\n",
    "        if self.fit_intercept:\n",
    "            X = self.__bias(X)\n",
    "        \n",
    "        return self.__sigmoid_function(np.dot(X, self.W))\n",
    "    \n",
    "    # predict class from probabilities; less than 0.5 = 0 or more than 0.5 = 1\n",
    "    def predict(self, X):\n",
    "        np.set_printoptions(suppress=True, precision=2)\n",
    "        print(self.predict_prob(X))\n",
    "        return self.predict_prob(X).round()\n",
    "    \n",
    "    def set_learning_rate(self, lr):\n",
    "        self.learning_rate = lr\n",
    "        \n",
    "    def set_num_iterations(self, itrs):\n",
    "        self.num_iterations = itrs"
   ]
  },
  {
   "cell_type": "code",
   "execution_count": 151,
   "id": "bc3f2007",
   "metadata": {},
   "outputs": [],
   "source": [
    "model = LogisticRegression(learning_rate=0.05, num_iterations=10000, verbose=True)"
   ]
  },
  {
   "cell_type": "code",
   "execution_count": 152,
   "id": "82138c9d",
   "metadata": {},
   "outputs": [
    {
     "name": "stdout",
     "output_type": "stream",
     "text": [
      "loss: 4.025190187195965 \t\n",
      "loss: 0.04492329180984988 \t\n",
      "loss: 0.024313154625236463 \t\n",
      "loss: 0.01822116366114381 \t\n",
      "loss: 0.014893847503077928 \t\n",
      "loss: 0.012682125922193626 \t\n",
      "loss: 0.011072106202460094 \t\n",
      "loss: 0.009836640289075212 \t\n",
      "loss: 0.008854513023124247 \t\n",
      "loss: 0.008053322507327347 \t\n",
      "Wall time: 9.46 s\n"
     ]
    }
   ],
   "source": [
    "%%time\n",
    "'''model.set_learning_rate(0.1)\n",
    "model.set_num_iterations(10000)'''\n",
    "model.fit(X_train, X_label)"
   ]
  },
  {
   "cell_type": "code",
   "execution_count": 153,
   "id": "5f412cda",
   "metadata": {},
   "outputs": [
    {
     "name": "stdout",
     "output_type": "stream",
     "text": [
      "[0.   0.01 0.   0.01 0.   0.   0.   0.   0.   0.   0.   0.   0.   0.\n",
      " 0.   0.   0.   0.   0.   0.   0.02 0.   0.02 0.   0.   0.   0.   0.01\n",
      " 0.   0.   0.   0.   0.   0.   0.   0.   0.   0.   0.   0.   0.01 0.\n",
      " 0.01 0.   0.   0.   0.   0.   0.   0.   0.02 0.   0.   0.   0.   0.\n",
      " 0.   0.   0.   0.   0.   0.02 0.   0.   0.   0.   0.   0.   0.   0.01\n",
      " 0.   0.01 0.   0.01 0.01 0.   0.   0.   0.   0.01 0.   0.   0.   0.\n",
      " 0.   0.   0.   0.   0.   0.   0.   0.   0.   0.   0.   0.   0.   0.\n",
      " 0.   0.   0.   0.   0.   0.   0.   0.   0.   0.   0.01 0.01 0.   0.\n",
      " 0.   0.   0.   0.   0.01 0.   0.   0.   0.   0.   0.   0.   0.   0.02\n",
      " 0.   0.   0.   0.   0.01 0.   0.   0.   0.01 0.01 0.01 0.   0.   0.\n",
      " 0.01 0.01 0.01 0.   0.01 0.02 0.   0.   0.   0.   0.   0.02 0.   0.\n",
      " 0.   0.   0.   0.   0.   0.   0.   0.   0.   0.   0.01 0.   0.   0.\n",
      " 0.   0.   0.01 0.   0.02 0.   0.   0.02 0.   0.   0.   0.   0.   0.\n",
      " 0.   0.   0.01 0.   0.   0.   0.   0.01 0.   0.   0.   0.   0.   0.\n",
      " 0.   0.   0.   0.   0.   0.01 0.   0.   0.   0.   0.   0.01 0.   0.\n",
      " 0.02 0.04 0.   0.   0.   0.   0.   0.01 0.01 0.   0.01 0.   0.   0.\n",
      " 0.   0.   0.   0.   0.   0.   0.01 0.02 0.   0.01 0.   0.   0.   0.01\n",
      " 0.   0.   0.   0.   0.   0.   0.01 0.   0.01 0.02 0.   0.   0.01 0.\n",
      " 0.   0.   0.   0.   0.   0.   0.   0.   0.   0.01 0.   0.   0.   0.\n",
      " 0.   0.   0.02 0.   0.   0.   0.01 0.   0.   0.   0.   0.   0.01 0.\n",
      " 0.   0.01 0.   0.   0.   0.   0.   0.   0.   0.   0.   0.   0.   0.\n",
      " 0.   0.01 0.   0.   0.   0.   0.   0.   0.   0.   0.   0.02 0.   0.01\n",
      " 0.01 0.   0.02 0.   0.01 0.03 0.01 0.   0.   0.   0.   0.   0.   0.04\n",
      " 0.01 0.   0.   0.   0.   0.   0.   0.   0.   0.   0.01 0.   0.01 0.\n",
      " 0.   0.   0.01 0.01 0.02 0.   0.   0.01 0.01 0.   0.   0.   0.   0.\n",
      " 0.   0.   0.   0.01 0.   0.   0.   0.   0.   0.   0.   0.01 0.03 0.01\n",
      " 0.   0.01 0.   0.   0.   0.   0.   0.   0.   0.   0.01 0.   0.   0.\n",
      " 0.01 0.   0.   0.   0.   0.02 0.01 0.   0.   0.   0.   0.   0.   0.\n",
      " 0.   0.   0.   0.   0.01 0.   0.   0.01 0.   0.   0.   0.01 0.01 0.\n",
      " 0.   0.   0.   0.   0.01 0.   0.02 0.01 0.   0.   0.02 0.   0.   0.\n",
      " 0.01 0.01 0.   0.   0.   0.   0.01 0.   0.01 0.01 0.   0.   0.   0.\n",
      " 0.   0.   0.   0.   0.   0.   0.   0.01 0.   0.   0.   0.01 0.   0.\n",
      " 0.   0.   0.   0.   0.   0.01 0.   0.03 0.   0.01 0.   0.   0.   0.\n",
      " 0.   0.01 0.01 0.   0.   0.01 0.01 0.   0.   0.   0.01 0.   0.   0.\n",
      " 0.   0.   0.   0.02 0.02 0.   0.02 0.   0.   0.01 0.01 0.   0.   0.\n",
      " 0.   0.   0.   0.01 0.   0.   0.   0.01 0.   0.   0.01 0.   0.   0.01\n",
      " 0.   0.01 1.   0.99 0.98 0.99 1.   0.99 0.93 0.97 1.   0.99 0.99 0.97\n",
      " 0.97 0.98 0.98 0.98 0.99 0.99 0.99 0.99 1.   0.97 1.   0.99 0.98 0.99\n",
      " 1.   1.   0.97 1.   0.96 0.68 1.   0.99 0.99 0.99 0.98 1.   0.99 0.99\n",
      " 0.95 1.   0.93 1.   0.91 0.99 0.73 0.97 0.99 0.99 1.   0.96 1.   0.99\n",
      " 0.95 0.99 0.97 0.98 0.97 0.99 0.99 0.94 1.   0.89 0.8  0.98 0.96 0.99\n",
      " 0.99 0.98 0.98 0.98 0.99 0.99 0.99 1.   0.96 0.93 0.99 0.99 0.99 0.91\n",
      " 0.99 1.   0.98 0.98 0.99 0.9  0.98 0.99 0.99 0.98 0.99 1.   0.99 0.92\n",
      " 0.97 0.94 0.99 0.99 0.99 0.99 0.98 0.99 0.99 1.   0.99 1.   1.   1.\n",
      " 0.99 0.99 1.   0.99 0.91 1.   1.   0.98 0.87 0.98 0.99 1.  ]\n"
     ]
    },
    {
     "data": {
      "text/plain": [
       "1.0"
      ]
     },
     "execution_count": 153,
     "metadata": {},
     "output_type": "execute_result"
    }
   ],
   "source": [
    "preds = model.predict(Y_test)\n",
    "(preds == Y_label).mean()"
   ]
  },
  {
   "cell_type": "code",
   "execution_count": 138,
   "id": "1d21641f",
   "metadata": {},
   "outputs": [
    {
     "name": "stdout",
     "output_type": "stream",
     "text": [
      "True negatives:  484 \n",
      "False positives:  22 \n",
      "False negatives:  41 \n",
      "True Positives:  81\n"
     ]
    }
   ],
   "source": [
    "# Print confusion matrix\n",
    "tn, fp, fn, tp = confusion_matrix(pd.Series(Y_label), preds).ravel()\n",
    "print('True negatives: ', tn, '\\nFalse positives: ', fp, '\\nFalse negatives: ', fn, '\\nTrue Positives: ', tp)"
   ]
  },
  {
   "cell_type": "code",
   "execution_count": 139,
   "id": "f97bd9be",
   "metadata": {},
   "outputs": [
    {
     "name": "stdout",
     "output_type": "stream",
     "text": [
      "----------WEIGHTS----------\n",
      "Bias: \t\t\t-3.761980769980918\n",
      "prev_3s_recruits: \t-0.1037174314717151\n",
      "prev_4s_recruits: \t-0.15025203753057162\n",
      "prev_5s_recruits: \t0.14442664614864031\n",
      "curr_3s_recruits: \t-0.19728075061814893\n",
      "curr_4s_recruits: \t0.013674968255753232\n",
      "curr_5s_recruits: \t-0.08910945146545099\n",
      "returningMins%: \t-0.9869156612735804\n",
      "sos: \t\t\t-0.6203746569149337\n",
      "adjTempo: \t\t0.15151214311090633\n",
      "win ratio: \t\t3.5931572466584023\n",
      "overall efficiency: \t2.5488176878096676\n",
      "stars: \t\t\t-0.046498990756044814\n"
     ]
    }
   ],
   "source": [
    "print(\"----------WEIGHTS----------\")\n",
    "print(\"Bias: \\t\\t\\t\" + str(model.W[0]))\n",
    "for i in range(len(X_train.columns)):\n",
    "    if X_train.columns[i] == \"sos\" or X_train.columns[i] == \"stars\":\n",
    "        print(X_train.columns[i] + \": \\t\\t\\t\" + str(model.W[i+1]))\n",
    "    elif X_train.columns[i] == \"adjTempo\" or X_train.columns[i] == \"win ratio\" or X_train.columns[i] == \"seed_points\":\n",
    "        print(X_train.columns[i] + \": \\t\\t\" + str(model.W[i+1]))\n",
    "    else:\n",
    "        print(X_train.columns[i] + \": \\t\" + str(model.W[i+1]))\n",
    "# print(model.W.shape)"
   ]
  },
  {
   "cell_type": "code",
   "execution_count": 132,
   "id": "f2ebc77a",
   "metadata": {},
   "outputs": [
    {
     "data": {
      "text/plain": [
       "array([0, 0, 0, 0, 0, 0, 0, 0, 0, 0, 0, 0, 0, 0, 0, 0, 0, 0, 0, 0, 0, 0,\n",
       "       1, 0, 0, 0, 0, 0, 0, 0, 0, 1, 0, 1, 0, 0, 0, 0, 0, 0, 0, 0, 0, 0,\n",
       "       0, 0, 0, 0, 0, 0, 0, 0, 0, 0, 0, 0, 0, 0, 0, 0, 0, 0, 0, 0, 0, 0,\n",
       "       0, 0, 0, 0, 0, 0, 0, 0, 0, 0, 0, 0, 0, 0, 0, 0, 0, 0, 0, 0, 0, 0,\n",
       "       0, 0, 1, 0, 0, 0, 0, 0, 0, 0, 0, 0, 0, 0, 0, 0, 0, 0, 0, 0, 0, 0,\n",
       "       0, 0, 0, 0, 0, 0, 0, 0, 0, 0, 0, 0, 0, 0, 0, 0, 0, 0, 0, 0, 0, 0,\n",
       "       0, 0, 0, 0, 0, 0, 0, 0, 0, 0, 0, 0, 0, 0, 0, 0, 0, 0, 0, 0, 0, 0,\n",
       "       0, 0, 0, 0, 0, 0, 0, 0, 0, 0, 0, 0, 0, 0, 0, 0, 0, 0, 0, 0, 0, 0,\n",
       "       0, 0, 0, 0, 0, 0, 0, 0, 0, 0, 0, 0, 0, 0, 0, 0, 0, 0, 0, 0, 0, 0,\n",
       "       0, 0, 0, 0, 0, 1, 0, 0, 0, 0, 0, 0, 0, 0, 0, 0, 0, 1, 0, 0, 0, 0,\n",
       "       0, 0, 0, 0, 0, 0, 0, 0, 0, 0, 0, 0, 0, 1, 0, 0, 0, 0, 0, 0, 0, 0,\n",
       "       0, 0, 0, 0, 0, 0, 0, 0, 0, 0, 0, 0, 0, 0, 0, 0, 0, 0, 0, 0, 0, 0,\n",
       "       1, 0, 0, 0, 0, 0, 0, 0, 1, 0, 0, 0, 0, 0, 0, 0, 0, 0, 0, 0, 1, 0,\n",
       "       0, 0, 0, 0, 0, 0, 0, 0, 0, 0, 0, 0, 0, 0, 0, 0, 0, 0, 0, 0, 0, 0,\n",
       "       0, 0, 0, 0, 0, 1, 0, 0, 0, 0, 0, 0, 0, 1, 0, 0, 0, 1, 0, 0, 1, 0,\n",
       "       0, 0, 0, 0, 0, 0, 0, 0, 0, 0, 0, 0, 0, 0, 0, 0, 0, 0, 0, 0, 0, 1,\n",
       "       0, 0, 0, 0, 0, 0, 0, 0, 0, 1, 0, 0, 0, 0, 1, 0, 0, 0, 0, 0, 0, 0,\n",
       "       0, 0, 0, 1, 0, 0, 0, 0, 0, 0, 0, 0, 0, 0, 0, 0, 0, 0, 0, 1, 0, 0,\n",
       "       0, 0, 0, 0, 0, 0, 0, 0, 0, 0, 0, 0, 0, 0, 0, 0, 0, 0, 0, 0, 1, 0,\n",
       "       0, 0, 0, 0, 0, 0, 1, 0, 0, 0, 0, 0, 0, 0, 0, 0, 0, 0, 0, 0, 0, 0,\n",
       "       0, 0, 0, 0, 0, 0, 0, 0, 0, 0, 0, 0, 0, 0, 0, 0, 0, 0, 0, 0, 0, 0,\n",
       "       0, 0, 0, 0, 0, 0, 0, 0, 0, 0, 0, 0, 0, 0, 0, 0, 0, 0, 0, 1, 0, 0,\n",
       "       0, 0, 0, 0, 0, 0, 0, 0, 0, 0, 0, 0, 0, 0, 0, 0, 0, 0, 0, 0, 0, 0,\n",
       "       1, 1, 0, 1, 1, 0, 1, 1, 0, 1, 0, 0, 0, 1, 1, 1, 0, 1, 1, 1, 0, 1,\n",
       "       0, 0, 1, 1, 0, 0, 0, 1, 1, 1, 1, 1, 0, 1, 1, 1, 1, 0, 0, 1, 0, 1,\n",
       "       1, 1, 0, 1, 1, 1, 1, 1, 1, 0, 0, 0, 1, 1, 0, 0, 1, 1, 0, 0, 1, 0,\n",
       "       1, 1, 1, 1, 1, 1, 1, 0, 0, 1, 1, 0, 1, 1, 0, 1, 1, 0, 1, 0, 0, 0,\n",
       "       1, 1, 1, 1, 0, 0, 1, 0, 0, 1, 1, 1, 0, 1, 1, 1, 1, 1, 0, 1, 1, 1,\n",
       "       1, 1, 1, 1, 1, 1, 0, 1, 1, 1, 0, 1], dtype=int64)"
      ]
     },
     "execution_count": 132,
     "metadata": {},
     "output_type": "execute_result"
    }
   ],
   "source": [
    "from sklearn.linear_model import LogisticRegression as LogReg\n",
    "clf = LogReg(max_iter = 10000).fit(X_train, X_label)\n",
    "clf.predict(Y_test)"
   ]
  },
  {
   "cell_type": "code",
   "execution_count": 133,
   "id": "e94d7274",
   "metadata": {},
   "outputs": [
    {
     "data": {
      "text/plain": [
       "0.8980891719745223"
      ]
     },
     "execution_count": 133,
     "metadata": {},
     "output_type": "execute_result"
    }
   ],
   "source": [
    "clf.score(Y_test, Y_label)"
   ]
  },
  {
   "cell_type": "markdown",
   "id": "68544401",
   "metadata": {},
   "source": [
    "### SMOTE Oversampling Algorithm for data augmentation to get equally sized classes\n",
    "\n",
    "See the following link: <a>https://towardsdatascience.com/smote-fdce2f605729</a>. Here you will find a description for the SMOTE (Synthetic Minority Oversampling Technique) algorithm, which is useful for oversampling data augmentation. We perform that here using the imbalanced learn python library in order to increase the number of data points labeled as having made the NCAA tournament."
   ]
  },
  {
   "cell_type": "code",
   "execution_count": 88,
   "id": "4969e144",
   "metadata": {},
   "outputs": [
    {
     "name": "stdout",
     "output_type": "stream",
     "text": [
      "Old X:\tOverall Length = 2514\tNumber of 0 labels = 2025\tNumber of 1 labels = 489\n",
      "New X:\tOverall Length = 4050\tNumber of 0 labels = 2025\tNumber of 1 labels = 2025\n",
      "\n",
      "Old Y:\tOverall Length = 628\tNumber of 0 labels = 506\tNumber of 1 labels = 122\n",
      "New Y:\tOverall Length = 1012\tNumber of 0 labels = 506\tNumber of 1 labels = 506\n"
     ]
    }
   ],
   "source": [
    "from imblearn.over_sampling import SMOTE\n",
    "\n",
    "# Oversample teams who made tournament for training data\n",
    "X_train_resampled, X_label_resampled = SMOTE().fit_resample(X_train, X_label)\n",
    "print(\"Old X:\\tOverall Length = \" + str(len(X_train)) + \"\\tNumber of 0 labels = \" + \n",
    "      str(pd.Series(X_label).value_counts()[0]) + \"\\tNumber of 1 labels = \" + str(pd.Series(X_label).value_counts()[1]))\n",
    "print(\"New X:\\tOverall Length = \" + str(len(X_train_resampled)) + \"\\tNumber of 0 labels = \" + \n",
    "      str(pd.Series(X_label_resampled).value_counts()[0]) + \"\\tNumber of 1 labels = \" + \n",
    "      str(pd.Series(X_label_resampled).value_counts()[1]))\n",
    "\n",
    "# Oversample teams who made tournament for testing data\n",
    "Y_test_resampled, Y_label_resampled = SMOTE().fit_resample(Y_test, Y_label)\n",
    "print(\"\\nOld Y:\\tOverall Length = \" + str(len(Y_test)) + \"\\tNumber of 0 labels = \" + \n",
    "      str(pd.Series(Y_label).value_counts()[0]) + \"\\tNumber of 1 labels = \" + str(pd.Series(Y_label).value_counts()[1]))\n",
    "print(\"New Y:\\tOverall Length = \" + str(len(Y_test_resampled)) + \"\\tNumber of 0 labels = \" + \n",
    "      str(pd.Series(Y_label_resampled).value_counts()[0]) + \"\\tNumber of 1 labels = \" + \n",
    "      str(pd.Series(Y_label_resampled).value_counts()[1]))"
   ]
  },
  {
   "cell_type": "markdown",
   "id": "1b3a68ba",
   "metadata": {},
   "source": [
    "##### Now we retrain and retest model"
   ]
  },
  {
   "cell_type": "code",
   "execution_count": 93,
   "id": "4451a997",
   "metadata": {
    "scrolled": false
   },
   "outputs": [
    {
     "name": "stdout",
     "output_type": "stream",
     "text": [
      "loss: 0.6648545286113374 \t\n",
      "loss: 0.32791613832941857 \t\n",
      "loss: 0.32142962419918325 \t\n",
      "loss: 0.31637385746947083 \t\n",
      "loss: 0.31225890600420425 \t\n",
      "loss: 0.3088493940111006 \t\n",
      "loss: 0.3059843453748049 \t\n",
      "loss: 0.30354796537093437 \t\n",
      "loss: 0.30145432386792814 \t\n",
      "loss: 0.2996381575076913 \t\n",
      "Wall time: 10.8 s\n"
     ]
    }
   ],
   "source": [
    "%%time\n",
    "model = LogisticRegression(learning_rate=0.15, num_iterations=10000, verbose=True)\n",
    "model.fit(X_train_resampled, X_label_resampled)"
   ]
  },
  {
   "cell_type": "code",
   "execution_count": 94,
   "id": "378030a4",
   "metadata": {
    "scrolled": true
   },
   "outputs": [
    {
     "data": {
      "text/plain": [
       "0.8685770750988142"
      ]
     },
     "execution_count": 94,
     "metadata": {},
     "output_type": "execute_result"
    }
   ],
   "source": [
    "new_preds = model.predict(Y_test_resampled)\n",
    "(new_preds == Y_label_resampled).mean()"
   ]
  },
  {
   "cell_type": "code",
   "execution_count": 95,
   "id": "a2f6fa25",
   "metadata": {},
   "outputs": [
    {
     "name": "stdout",
     "output_type": "stream",
     "text": [
      "<class 'pandas.core.frame.DataFrame'> <class 'numpy.ndarray'>\n",
      "True negatives:  438 \n",
      "False positives:  68 \n",
      "False negatives:  65 \n",
      "True Positives:  441\n"
     ]
    }
   ],
   "source": [
    "# Print confusion matrix\n",
    "print(str(type(Y_test_resampled)) + \" \" + str(type(new_preds)))\n",
    "tn, fp, fn, tp = confusion_matrix(pd.Series(Y_label_resampled), new_preds).ravel()\n",
    "print('True negatives: ', tn, '\\nFalse positives: ', fp, '\\nFalse negatives: ', fn, '\\nTrue Positives: ', tp)"
   ]
  },
  {
   "cell_type": "code",
   "execution_count": 96,
   "id": "58c17d4f",
   "metadata": {},
   "outputs": [
    {
     "name": "stdout",
     "output_type": "stream",
     "text": [
      "----------WEIGHTS----------\n",
      "Bias: \t\t\t-4.074377094985026\n",
      "prev_3s_recruits: \t-0.20952424773389425\n",
      "prev_4s_recruits: \t-0.17374282443344058\n",
      "prev_5s_recruits: \t0.10109283757679391\n",
      "curr_3s_recruits: \t-0.27592231715700866\n",
      "curr_4s_recruits: \t-0.14831835232325427\n",
      "curr_5s_recruits: \t-0.41338189612471915\n",
      "returningMins%: \t-0.6237416787248499\n",
      "sos: \t\t\t-0.43956044318387927\n",
      "adjTempo: \t\t0.05680168232057999\n",
      "win ratio: \t\t6.556706676766965\n",
      "overall efficiency: \t2.2728826716710544\n",
      "stars: \t\t\t0.02823528499667161\n"
     ]
    }
   ],
   "source": [
    "print(\"----------WEIGHTS----------\")\n",
    "print(\"Bias: \\t\\t\\t\" + str(model.W[0]))\n",
    "for i in range(len(X_train_resampled.columns)):\n",
    "    if X_train_resampled.columns[i] == \"sos\" or X_train_resampled.columns[i] == \"stars\":\n",
    "        print(X_train_resampled.columns[i] + \": \\t\\t\\t\" + str(model.W[i+1]))\n",
    "    elif X_train_resampled.columns[i] == \"adjTempo\" or X_train_resampled.columns[i] == \"win ratio\" or X_train_resampled.columns[i] == \"seed_points\":\n",
    "        print(X_train_resampled.columns[i] + \": \\t\\t\" + str(model.W[i+1]))\n",
    "    else:\n",
    "        print(X_train_resampled.columns[i] + \": \\t\" + str(model.W[i+1]))"
   ]
  },
  {
   "cell_type": "code",
   "execution_count": 97,
   "id": "f5a5c6d8",
   "metadata": {},
   "outputs": [
    {
     "data": {
      "text/plain": [
       "0.8527667984189723"
      ]
     },
     "execution_count": 97,
     "metadata": {},
     "output_type": "execute_result"
    }
   ],
   "source": [
    "clf_new = LogReg(max_iter = 10000).fit(X_train_resampled, X_label_resampled)\n",
    "clf_new.predict(Y_test_resampled)\n",
    "clf.score(Y_test_resampled, Y_label_resampled)"
   ]
  }
 ],
 "metadata": {
  "kernelspec": {
   "display_name": "Python 3 (ipykernel)",
   "language": "python",
   "name": "python3"
  },
  "language_info": {
   "codemirror_mode": {
    "name": "ipython",
    "version": 3
   },
   "file_extension": ".py",
   "mimetype": "text/x-python",
   "name": "python",
   "nbconvert_exporter": "python",
   "pygments_lexer": "ipython3",
   "version": "3.8.11"
  }
 },
 "nbformat": 4,
 "nbformat_minor": 5
}
