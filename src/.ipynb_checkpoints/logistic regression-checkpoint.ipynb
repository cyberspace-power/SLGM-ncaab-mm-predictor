{
 "cells": [
  {
   "cell_type": "code",
   "execution_count": 1,
   "id": "4194b346",
   "metadata": {},
   "outputs": [],
   "source": [
    "%matplotlib inline\n",
    "import numpy as np\n",
    "import pandas as pd\n",
    "import matplotlib.pyplot as plt\n",
    "import seaborn as sns\n",
    "from sklearn import datasets\n",
    "from sklearn import linear_model\n",
    "from sklearn.metrics import confusion_matrix"
   ]
  },
  {
   "cell_type": "code",
   "execution_count": 2,
   "id": "061414fd",
   "metadata": {},
   "outputs": [],
   "source": [
    "data = pd.read_csv(\"./../Data/Final Data/all_combined.csv\")\n",
    "# .set_index([\"teamName\", \"year\"]).sort_index()"
   ]
  },
  {
   "cell_type": "code",
   "execution_count": 53,
   "id": "863e550e",
   "metadata": {},
   "outputs": [
    {
     "name": "stdout",
     "output_type": "stream",
     "text": [
      "(2514, 19)\n",
      "(628, 19)\n"
     ]
    }
   ],
   "source": [
    "data_0 = data[data['label'] == 0]\n",
    "data_1 = data[data['label'] == 1]\n",
    "\n",
    "# print(data_0)\n",
    "# print(data_1)\n",
    "\n",
    "training_data_0 = data_0.sample(frac=0.8)\n",
    "testing_data_0 = data_0.drop(training_data_0.index)\n",
    "\n",
    "training_data_1 = data_1.sample(frac=0.8)\n",
    "testing_data_1 = data_1.drop(training_data_1.index)\n",
    "\n",
    "# print(\"data class 0\")\n",
    "# print(training_data_0)\n",
    "# print(testing_data_0)\n",
    "\n",
    "# print(\"data class 1\")\n",
    "# print(training_data_1)\n",
    "# print(testing_data_1)\n",
    "\n",
    "X = training_data_0.append(training_data_1, ignore_index=True)\n",
    "# X_train = X.loc[:, X.columns != 'label']\n",
    "# X_train = X.loc[:, ~X.columns.isin(['teamName', 'year', 'label', 'seed_points', 'NIT', 'R64', 'R32', 'S16', 'E8', 'F4', 'F2', 'CHMP'])]\n",
    "X_train = X.loc[:, ~X.columns.isin(['teamName', 'year', 'label', 'seed_points', 'NIT'])]\n",
    "X_label = X['label']\n",
    "\n",
    "# print(\"training\")\n",
    "# print(X)\n",
    "\n",
    "Y = testing_data_0.append(testing_data_1, ignore_index=True)\n",
    "# Y_test = Y.loc[:, Y.columns != 'label']\n",
    "# Y_test = Y.loc[:, ~Y.columns.isin(['teamName', 'year', 'label', 'seed_points', 'NIT', 'R64', 'R32', 'S16', 'E8', 'F4', 'F2', 'CHMP'])]\n",
    "Y_test = Y.loc[:, ~Y.columns.isin(['teamName', 'year', 'label', 'seed_points', 'NIT'])]\n",
    "Y_label = Y['label']\n",
    "\n",
    "# print(\"testing\")\n",
    "# print(Y)\n",
    "\n",
    "print(X_train.shape)\n",
    "print(Y_test.shape)"
   ]
  },
  {
   "cell_type": "code",
   "execution_count": 54,
   "id": "e72574a3",
   "metadata": {},
   "outputs": [
    {
     "name": "stdout",
     "output_type": "stream",
     "text": [
      "0         Washington St.\n",
      "1       Georgia Southern\n",
      "2         Loyola Chicago\n",
      "3                  Rider\n",
      "4        St. Bonaventure\n",
      "              ...       \n",
      "2020    Eastern Kentucky\n",
      "2021           Charlotte\n",
      "2022    Northwestern St.\n",
      "2023              DePaul\n",
      "2024            UC Davis\n",
      "Name: teamName, Length: 2025, dtype: object\n"
     ]
    }
   ],
   "source": [
    "print(X[X['label'] == 0].loc[:, 'teamName'])"
   ]
  },
  {
   "cell_type": "code",
   "execution_count": 55,
   "id": "c469a02a",
   "metadata": {},
   "outputs": [
    {
     "data": {
      "image/png": "[encoded data removed]",
      "text/plain": [
       "<Figure size 720x432 with 1 Axes>"
      ]
     },
     "metadata": {
      "needs_background": "light"
     },
     "output_type": "display_data"
    }
   ],
   "source": [
    "plt.figure(figsize=(10, 6))\n",
    "plt.scatter(X[X['label'] == 0].loc[:, 'teamName'], X[X['label'] == 0].loc[:, 'year'], color='b', label='0')\n",
    "plt.scatter(X[X['label'] == 1].loc[:, 'teamName'], X[X['label'] == 1].loc[:, 'year'], color='r', label='1')\n",
    "plt.legend();"
   ]
  },
  {
   "cell_type": "code",
   "execution_count": 56,
   "id": "61a3e53b",
   "metadata": {},
   "outputs": [],
   "source": [
    "class LogisticRegression:\n",
    "    \n",
    "    # set parameters - learning rate, number ot iterations, bias, \n",
    "    # and verbose which says whether to print anything or not like, loss etc.\n",
    "    def __init__(self, learning_rate=0.05, num_iterations=50000, fit_intercept=True, verbose=False):\n",
    "        self.learning_rate = learning_rate\n",
    "        self.num_iterations = num_iterations\n",
    "        self.fit_intercept = fit_intercept\n",
    "        self.verbose = verbose\n",
    "    \n",
    "    # function to define the Incercept value.\n",
    "    def __bias(self, X):\n",
    "        # set bias as 1\n",
    "        bias = np.ones((X.shape[0], 1))\n",
    "        # concat bias to data\n",
    "        return np.concatenate((bias, X), axis=1)\n",
    "    \n",
    "    def __sigmoid_function(self, x):\n",
    "        # sigmoid function to predicts yp\n",
    "        return 1 / (1 + np.exp(-x))\n",
    "    \n",
    "    def __loss(self, yp, y):\n",
    "        # minimize loss\n",
    "        return (-y * np.log(yp) - (1 - y) * np.log(1 - yp)).mean()\n",
    "    \n",
    "    # training function\n",
    "    def fit(self, X, y):\n",
    "        \n",
    "        # use bias if specified\n",
    "        if self.fit_intercept:\n",
    "            X = self.__bias(X)\n",
    "        \n",
    "        # initialize weights as 0 initially\n",
    "        self.W = np.zeros(X.shape[1])\n",
    "        \n",
    "        # run for number of iterations provided\n",
    "        for i in range(self.num_iterations):\n",
    "            \n",
    "            z = np.dot(X, self.W)\n",
    "            \n",
    "            # prediction probabilities\n",
    "            yp = self.__sigmoid_function(z)\n",
    "            \n",
    "            # calculate gradient\n",
    "            gradient = np.dot(X.T, (yp - y)) / y.size\n",
    "            \n",
    "            # update W\n",
    "            self.W -= self.learning_rate * gradient\n",
    "            \n",
    "            # new W * Xi\n",
    "            z = np.dot(X, self.W)\n",
    "            yp = self.__sigmoid_function(z)\n",
    "            \n",
    "            # calculate loss\n",
    "            loss = self.__loss(yp, y)\n",
    "            \n",
    "            # to print loss with verbose\n",
    "            if(self.verbose ==True and i % 1000 == 0):\n",
    "                print(f'loss: {loss} \\t')\n",
    "    \n",
    "    # predict the probabilities using W\n",
    "    def predict_prob(self, X):\n",
    "        if self.fit_intercept:\n",
    "            X = self.__bias(X)\n",
    "        \n",
    "        return self.__sigmoid_function(np.dot(X, self.W))\n",
    "    \n",
    "    # predict class from probabilities; less than 0.5 = 0 or more than 0.5 = 1\n",
    "    def predict(self, X):\n",
    "        return self.predict_prob(X).round()"
   ]
  },
  {
   "cell_type": "code",
   "execution_count": 57,
   "id": "bc3f2007",
   "metadata": {},
   "outputs": [],
   "source": [
    "model = LogisticRegression(learning_rate=0.1, num_iterations=30000, verbose=True)"
   ]
  },
  {
   "cell_type": "code",
   "execution_count": 58,
   "id": "82138c9d",
   "metadata": {},
   "outputs": [
    {
     "name": "stdout",
     "output_type": "stream",
     "text": [
      "loss: 0.6702479117680792 \t\n",
      "loss: 0.10831555907784275 \t\n",
      "loss: 0.07099943709444778 \t\n",
      "loss: 0.054141314577251895 \t\n",
      "loss: 0.044291572275908395 \t\n",
      "loss: 0.03773941379593745 \t\n",
      "loss: 0.03302189786036957 \t\n",
      "loss: 0.029439178152202632 \t\n",
      "loss: 0.026611914832410332 \t\n",
      "loss: 0.024315521359902604 \t\n",
      "loss: 0.022407960425206947 \t\n",
      "loss: 0.020794671665579592 \t\n",
      "loss: 0.019410063621514373 \t\n",
      "loss: 0.01820708545330558 \t\n",
      "loss: 0.01715102965675908 \t\n",
      "loss: 0.01621568255195466 \t\n",
      "loss: 0.015380842083717483 \t\n",
      "loss: 0.01463066526812834 \t\n",
      "loss: 0.013952537115020735 \t\n",
      "loss: 0.013336277529533097 \t\n",
      "loss: 0.012773573236054983 \t\n",
      "loss: 0.01225756312496189 \t\n",
      "loss: 0.011782530443074063 \t\n",
      "loss: 0.011343670814602688 \t\n",
      "loss: 0.010936915008424595 \t\n",
      "loss: 0.010558791845351646 \t\n",
      "loss: 0.01020632095233315 \t\n",
      "loss: 0.009876927996308491 \t\n",
      "loss: 0.009568377048948189 \t\n",
      "loss: 0.009278716147912681 \t\n",
      "Wall time: 29.5 s\n"
     ]
    }
   ],
   "source": [
    "%%time\n",
    "model.fit(X_train, X_label)"
   ]
  },
  {
   "cell_type": "code",
   "execution_count": 59,
   "id": "5f412cda",
   "metadata": {},
   "outputs": [
    {
     "data": {
      "text/plain": [
       "1.0"
      ]
     },
     "execution_count": 59,
     "metadata": {},
     "output_type": "execute_result"
    }
   ],
   "source": [
    "preds = model.predict(Y_test)\n",
    "(preds == Y_label).mean()"
   ]
  },
  {
   "cell_type": "code",
   "execution_count": 60,
   "id": "1d21641f",
   "metadata": {},
   "outputs": [
    {
     "name": "stdout",
     "output_type": "stream",
     "text": [
      "True negatives:  506 \n",
      "False positives:  0 \n",
      "False negatives:  0 \n",
      "True Positives:  122\n"
     ]
    }
   ],
   "source": [
    "# Print confusion matrix\n",
    "tn, fp, fn, tp = confusion_matrix(pd.Series(Y_label), preds).ravel()\n",
    "print('True negatives: ', tn, '\\nFalse positives: ', fp, '\\nFalse negatives: ', fn, '\\nTrue Positives: ', tp)"
   ]
  },
  {
   "cell_type": "code",
   "execution_count": 61,
   "id": "f97bd9be",
   "metadata": {},
   "outputs": [
    {
     "name": "stdout",
     "output_type": "stream",
     "text": [
      "----------WEIGHTS----------\n",
      "Bias: \t\t\t-5.280363913185532\n",
      "prev_3s_recruits: \t-0.05288417207471837\n",
      "prev_4s_recruits: \t-0.0730249307449528\n",
      "prev_5s_recruits: \t0.28891877482673745\n",
      "curr_3s_recruits: \t-0.2020049954270697\n",
      "curr_4s_recruits: \t-0.01703568644320108\n",
      "curr_5s_recruits: \t-0.06980238810144644\n",
      "R64: \t11.272952654037763\n",
      "R32: \t7.324835078129896\n",
      "S16: \t5.664952561298419\n",
      "E8: \t3.7249745009140045\n",
      "F4: \t3.077704017438377\n",
      "F2: \t1.4955094090769454\n",
      "CHMP: \t1.1839832985183574\n",
      "returningMins%: \t-1.8639209164491308\n",
      "sos: \t\t\t-0.6280731287240746\n",
      "adjTempo: \t\t0.035754787686867684\n",
      "win ratio: \t\t0.2640426460685868\n",
      "overall efficiency: \t3.1889395606160504\n",
      "stars: \t\t\t-0.05931649624232677\n"
     ]
    }
   ],
   "source": [
    "print(\"----------WEIGHTS----------\")\n",
    "print(\"Bias: \\t\\t\\t\" + str(model.W[0]))\n",
    "for i in range(len(X_train.columns)):\n",
    "    if X_train.columns[i] == \"sos\" or X_train.columns[i] == \"stars\":\n",
    "        print(X_train.columns[i] + \": \\t\\t\\t\" + str(model.W[i+1]))\n",
    "    elif X_train.columns[i] == \"adjTempo\" or X_train.columns[i] == \"win ratio\":\n",
    "        print(X_train.columns[i] + \": \\t\\t\" + str(model.W[i+1]))\n",
    "    else:\n",
    "        print(X_train.columns[i] + \": \\t\" + str(model.W[i+1]))\n",
    "# print(model.W.shape)"
   ]
  },
  {
   "cell_type": "code",
   "execution_count": 62,
   "id": "f2ebc77a",
   "metadata": {},
   "outputs": [
    {
     "data": {
      "text/plain": [
       "array([0, 0, 0, 0, 0, 0, 0, 0, 0, 0, 0, 0, 0, 0, 0, 0, 0, 0, 0, 0, 0, 0,\n",
       "       0, 0, 0, 0, 0, 0, 0, 0, 0, 0, 0, 0, 0, 0, 0, 0, 0, 0, 0, 0, 0, 0,\n",
       "       0, 0, 0, 0, 0, 0, 0, 0, 0, 0, 0, 0, 0, 0, 0, 0, 0, 0, 0, 0, 0, 0,\n",
       "       0, 0, 0, 0, 0, 0, 0, 0, 0, 0, 0, 0, 0, 0, 0, 0, 0, 0, 0, 0, 0, 0,\n",
       "       0, 0, 0, 0, 0, 0, 0, 0, 0, 0, 0, 0, 0, 0, 0, 0, 0, 0, 0, 0, 0, 0,\n",
       "       0, 0, 0, 0, 0, 0, 0, 0, 0, 0, 0, 0, 0, 0, 0, 0, 0, 0, 0, 0, 0, 0,\n",
       "       0, 0, 0, 0, 0, 0, 0, 0, 0, 0, 0, 0, 0, 0, 0, 0, 0, 0, 0, 0, 0, 0,\n",
       "       0, 0, 0, 0, 0, 0, 0, 0, 0, 0, 0, 0, 0, 0, 0, 0, 0, 0, 0, 0, 0, 0,\n",
       "       0, 0, 0, 0, 0, 0, 0, 0, 0, 0, 0, 0, 0, 0, 0, 0, 0, 0, 0, 0, 0, 0,\n",
       "       0, 0, 0, 0, 0, 0, 0, 0, 0, 0, 0, 0, 0, 0, 0, 0, 0, 0, 0, 0, 0, 0,\n",
       "       0, 0, 0, 0, 0, 0, 0, 0, 0, 0, 0, 0, 0, 0, 0, 0, 0, 0, 0, 0, 0, 0,\n",
       "       0, 0, 0, 0, 0, 0, 0, 0, 0, 0, 0, 0, 0, 0, 0, 0, 0, 0, 0, 0, 0, 0,\n",
       "       0, 0, 0, 0, 0, 0, 0, 0, 0, 0, 0, 0, 0, 0, 0, 0, 0, 0, 0, 0, 0, 0,\n",
       "       0, 0, 0, 0, 0, 0, 0, 0, 0, 0, 0, 0, 0, 0, 0, 0, 0, 0, 0, 0, 0, 0,\n",
       "       0, 0, 0, 0, 0, 0, 0, 0, 0, 0, 0, 0, 0, 0, 0, 0, 0, 0, 0, 0, 0, 0,\n",
       "       0, 0, 0, 0, 0, 0, 0, 0, 0, 0, 0, 0, 0, 0, 0, 0, 0, 0, 0, 0, 0, 0,\n",
       "       0, 0, 0, 0, 0, 0, 0, 0, 0, 0, 0, 0, 0, 0, 0, 0, 0, 0, 0, 0, 0, 0,\n",
       "       0, 0, 0, 0, 0, 0, 0, 0, 0, 0, 0, 0, 0, 0, 0, 0, 0, 0, 0, 0, 0, 0,\n",
       "       0, 0, 0, 0, 0, 0, 0, 0, 0, 0, 0, 0, 0, 0, 0, 0, 0, 0, 0, 0, 0, 0,\n",
       "       0, 0, 0, 0, 0, 0, 0, 0, 0, 0, 0, 0, 0, 0, 0, 0, 0, 0, 0, 0, 0, 0,\n",
       "       0, 0, 0, 0, 0, 0, 0, 0, 0, 0, 0, 0, 0, 0, 0, 0, 0, 0, 0, 0, 0, 0,\n",
       "       0, 0, 0, 0, 0, 0, 0, 0, 0, 0, 0, 0, 0, 0, 0, 0, 0, 0, 0, 0, 0, 0,\n",
       "       0, 0, 0, 0, 0, 0, 0, 0, 0, 0, 0, 0, 0, 0, 0, 0, 0, 0, 0, 0, 0, 0,\n",
       "       1, 1, 1, 1, 1, 1, 1, 1, 1, 1, 1, 1, 1, 1, 1, 1, 1, 1, 1, 1, 1, 1,\n",
       "       1, 1, 1, 1, 1, 1, 1, 1, 1, 1, 1, 1, 1, 1, 1, 1, 1, 1, 1, 1, 1, 1,\n",
       "       1, 1, 1, 1, 1, 1, 1, 1, 1, 1, 1, 1, 1, 1, 1, 1, 1, 1, 1, 1, 1, 1,\n",
       "       1, 1, 1, 1, 1, 1, 1, 1, 1, 1, 1, 1, 1, 1, 1, 1, 1, 1, 1, 1, 1, 1,\n",
       "       1, 1, 1, 1, 1, 1, 1, 1, 1, 1, 1, 1, 1, 1, 1, 1, 1, 1, 1, 1, 1, 1,\n",
       "       1, 1, 1, 1, 1, 1, 1, 1, 1, 1, 1, 1], dtype=int64)"
      ]
     },
     "execution_count": 62,
     "metadata": {},
     "output_type": "execute_result"
    }
   ],
   "source": [
    "from sklearn.linear_model import LogisticRegression as LogReg\n",
    "clf = LogReg(max_iter = 30000).fit(X_train, X_label)\n",
    "clf.predict(Y_test)"
   ]
  },
  {
   "cell_type": "code",
   "execution_count": 63,
   "id": "e94d7274",
   "metadata": {},
   "outputs": [
    {
     "data": {
      "text/plain": [
       "1.0"
      ]
     },
     "execution_count": 63,
     "metadata": {},
     "output_type": "execute_result"
    }
   ],
   "source": [
    "clf.score(Y_test, Y_label)"
   ]
  },
  {
   "cell_type": "markdown",
   "id": "68544401",
   "metadata": {},
   "source": [
    "### SMOTE Oversampling Algorithm for data augmentation to get equally sized classes\n",
    "\n",
    "See the following link: <a>https://towardsdatascience.com/smote-fdce2f605729</a>. Here you will find a description for the SMOTE (Synthetic Minority Oversampling Technique) algorithm, which is useful for oversampling data augmentation. We perform that here using the imbalanced learn python library in order to increase the number of data points labeled as having made the NCAA tournament."
   ]
  },
  {
   "cell_type": "code",
   "execution_count": 64,
   "id": "4969e144",
   "metadata": {},
   "outputs": [
    {
     "name": "stdout",
     "output_type": "stream",
     "text": [
      "Old X:\tOverall Length = 2514\tNumber of 0 labels = 2025\tNumber of 1 labels = 489\n",
      "New X:\tOverall Length = 4050\tNumber of 0 labels = 2025\tNumber of 1 labels = 2025\n",
      "\n",
      "Old Y:\tOverall Length = 628\tNumber of 0 labels = 506\tNumber of 1 labels = 122\n",
      "New Y:\tOverall Length = 1012\tNumber of 0 labels = 506\tNumber of 1 labels = 506\n"
     ]
    }
   ],
   "source": [
    "from imblearn.over_sampling import SMOTE\n",
    "\n",
    "# Oversample teams who made tournament for training data\n",
    "X_train_resampled, X_label_resampled = SMOTE().fit_resample(X_train, X_label)\n",
    "print(\"Old X:\\tOverall Length = \" + str(len(X_train)) + \"\\tNumber of 0 labels = \" + \n",
    "      str(pd.Series(X_label).value_counts()[0]) + \"\\tNumber of 1 labels = \" + str(pd.Series(X_label).value_counts()[1]))\n",
    "print(\"New X:\\tOverall Length = \" + str(len(X_train_resampled)) + \"\\tNumber of 0 labels = \" + \n",
    "      str(pd.Series(X_label_resampled).value_counts()[0]) + \"\\tNumber of 1 labels = \" + \n",
    "      str(pd.Series(X_label_resampled).value_counts()[1]))\n",
    "\n",
    "# Oversample teams who made tournament for testing data\n",
    "Y_test_resampled, Y_label_resampled = SMOTE().fit_resample(Y_test, Y_label)\n",
    "print(\"\\nOld Y:\\tOverall Length = \" + str(len(Y_test)) + \"\\tNumber of 0 labels = \" + \n",
    "      str(pd.Series(Y_label).value_counts()[0]) + \"\\tNumber of 1 labels = \" + str(pd.Series(Y_label).value_counts()[1]))\n",
    "print(\"New Y:\\tOverall Length = \" + str(len(Y_test_resampled)) + \"\\tNumber of 0 labels = \" + \n",
    "      str(pd.Series(Y_label_resampled).value_counts()[0]) + \"\\tNumber of 1 labels = \" + \n",
    "      str(pd.Series(Y_label_resampled).value_counts()[1]))"
   ]
  },
  {
   "cell_type": "markdown",
   "id": "1b3a68ba",
   "metadata": {},
   "source": [
    "##### Now we retrain and retest model"
   ]
  },
  {
   "cell_type": "code",
   "execution_count": 65,
   "id": "4451a997",
   "metadata": {
    "scrolled": false
   },
   "outputs": [
    {
     "name": "stdout",
     "output_type": "stream",
     "text": [
      "loss: 0.6720423806548271 \t\n",
      "loss: 0.13918507213881934 \t\n",
      "loss: 0.10681514870969008 \t\n",
      "loss: 0.09314907973774308 \t\n",
      "loss: 0.08542810073663597 \t\n",
      "loss: 0.08039564963728223 \t\n",
      "loss: 0.07682174079876948 \t\n",
      "loss: 0.0741338425107282 \t\n",
      "loss: 0.07202752058982446 \t\n",
      "loss: 0.07032514118162388 \t\n",
      "loss: 0.06891568048899872 \t\n",
      "loss: 0.06772596714630462 \t\n",
      "loss: 0.06670569799154641 \t\n",
      "loss: 0.065819080736741 \t\n",
      "loss: 0.06503990948722765 \t\n",
      "loss: 0.06434852842192987 \t\n",
      "loss: 0.06372988696590896 \t\n",
      "loss: 0.06317225296221352 \t\n",
      "loss: 0.06266633701704072 \t\n",
      "loss: 0.06220468189548856 \t\n",
      "loss: 0.06178122748521702 \t\n",
      "loss: 0.06139099488001246 \t\n",
      "loss: 0.06102985302719287 \t\n",
      "loss: 0.060694343704623864 \t\n",
      "loss: 0.060381548420987 \t\n",
      "loss: 0.06008898592011997 \t\n",
      "loss: 0.059814532344823236 \t\n",
      "loss: 0.05955635839616835 \t\n",
      "loss: 0.059312879392107956 \t\n",
      "loss: 0.059082715223825015 \t\n",
      "Wall time: 33.2 s\n"
     ]
    }
   ],
   "source": [
    "%%time\n",
    "model.fit(X_train_resampled, X_label_resampled)"
   ]
  },
  {
   "cell_type": "code",
   "execution_count": 66,
   "id": "378030a4",
   "metadata": {
    "scrolled": true
   },
   "outputs": [
    {
     "data": {
      "text/plain": [
       "0.9772727272727273"
      ]
     },
     "execution_count": 66,
     "metadata": {},
     "output_type": "execute_result"
    }
   ],
   "source": [
    "new_preds = model.predict(Y_test_resampled)\n",
    "(new_preds == Y_label_resampled).mean()"
   ]
  },
  {
   "cell_type": "code",
   "execution_count": 67,
   "id": "a2f6fa25",
   "metadata": {},
   "outputs": [
    {
     "name": "stdout",
     "output_type": "stream",
     "text": [
      "<class 'pandas.core.frame.DataFrame'> <class 'numpy.ndarray'>\n",
      "True negatives:  500 \n",
      "False positives:  6 \n",
      "False negatives:  17 \n",
      "True Positives:  489\n"
     ]
    }
   ],
   "source": [
    "# Print confusion matrix\n",
    "print(str(type(Y_test_resampled)) + \" \" + str(type(new_preds)))\n",
    "tn, fp, fn, tp = confusion_matrix(pd.Series(Y_label_resampled), new_preds).ravel()\n",
    "print('True negatives: ', tn, '\\nFalse positives: ', fp, '\\nFalse negatives: ', fn, '\\nTrue Positives: ', tp)"
   ]
  },
  {
   "cell_type": "code",
   "execution_count": 68,
   "id": "58c17d4f",
   "metadata": {},
   "outputs": [
    {
     "name": "stdout",
     "output_type": "stream",
     "text": [
      "----------WEIGHTS----------\n",
      "Bias: \t\t\t-5.7190330337064745\n",
      "prev_3s_recruits: \t0.008010887232589047\n",
      "prev_4s_recruits: \t-0.11226339457658527\n",
      "prev_5s_recruits: \t0.2505178898810191\n",
      "curr_3s_recruits: \t-0.27851520536300284\n",
      "curr_4s_recruits: \t0.09351601914773723\n",
      "curr_5s_recruits: \t-0.4261391731540781\n",
      "R64: \t11.973219556958245\n",
      "R32: \t5.908941057726021\n",
      "S16: \t3.481299267499469\n",
      "E8: \t1.1131776445899249\n",
      "F4: \t0.7107387348749589\n",
      "F2: \t0.12762419158634364\n",
      "CHMP: \t0.15012401633356978\n",
      "returningMins%: \t-1.3017354067686877\n",
      "sos: \t\t\t0.14063881748245516\n",
      "adjTempo: \t\t0.2339231893976025\n",
      "win ratio: \t\t1.8677098165916508\n",
      "overall efficiency: \t4.73108686254422\n",
      "stars: \t\t\t-0.13583208251252202\n"
     ]
    }
   ],
   "source": [
    "print(\"----------WEIGHTS----------\")\n",
    "print(\"Bias: \\t\\t\\t\" + str(model.W[0]))\n",
    "for i in range(len(X_train_resampled.columns)):\n",
    "    if X_train_resampled.columns[i] == \"sos\" or X_train_resampled.columns[i] == \"stars\":\n",
    "        print(X_train_resampled.columns[i] + \": \\t\\t\\t\" + str(model.W[i+1]))\n",
    "    elif X_train_resampled.columns[i] == \"adjTempo\" or X_train_resampled.columns[i] == \"win ratio\":\n",
    "        print(X_train_resampled.columns[i] + \": \\t\\t\" + str(model.W[i+1]))\n",
    "    else:\n",
    "        print(X_train_resampled.columns[i] + \": \\t\" + str(model.W[i+1]))"
   ]
  },
  {
   "cell_type": "code",
   "execution_count": 69,
   "id": "f5a5c6d8",
   "metadata": {},
   "outputs": [
    {
     "data": {
      "text/plain": [
       "0.8824110671936759"
      ]
     },
     "execution_count": 69,
     "metadata": {},
     "output_type": "execute_result"
    }
   ],
   "source": [
    "clf_new = LogReg(max_iter = 30000).fit(X_train_resampled, X_label_resampled)\n",
    "clf_new.predict(Y_test_resampled)\n",
    "clf.score(Y_test_resampled, Y_label_resampled)"
   ]
  }
 ],
 "metadata": {
  "kernelspec": {
   "display_name": "Python 3 (ipykernel)",
   "language": "python",
   "name": "python3"
  },
  "language_info": {
   "codemirror_mode": {
    "name": "ipython",
    "version": 3
   },
   "file_extension": ".py",
   "mimetype": "text/x-python",
   "name": "python",
   "nbconvert_exporter": "python",
   "pygments_lexer": "ipython3",
   "version": "3.8.11"
  }
 },
 "nbformat": 4,
 "nbformat_minor": 5
}
